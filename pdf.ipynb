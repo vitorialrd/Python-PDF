{
 "cells": [
  {
   "cell_type": "code",
   "execution_count": 101,
   "metadata": {
    "slideshow": {
     "slide_type": "notes"
    }
   },
   "outputs": [],
   "source": [
    "project = input('Enter the project description: ')\n",
    "qnty_page = input('Enter the number of pages: ')\n",
    "price_page = input('Enter the extra value per page: ')\n",
    "expected_hours = input('Enter the expected number of hours: ')\n",
    "price_hour = input('Enter the value of the hour worked: ')\n",
    "deadline = input('Enter the project deadline: ')"
   ]
  },
  {
   "cell_type": "code",
   "execution_count": 102,
   "metadata": {},
   "outputs": [],
   "source": [
    "total = int(expected_hours) * int(price_hour)\n",
    "\n",
    "total_pagina = int(qnty_page) * int(price_page)"
   ]
  },
  {
   "cell_type": "code",
   "execution_count": 103,
   "metadata": {},
   "outputs": [],
   "source": [
    "from fpdf import FPDF"
   ]
  },
  {
   "cell_type": "code",
   "execution_count": null,
   "metadata": {},
   "outputs": [],
   "source": [
    "pdf = FPDF()\n",
    "\n",
    "\n",
    "pdf.add_page()\n",
    "pdf.set_font('Arial')\n",
    "pdf.set_text_color(255,255,255)\n",
    "pdf.set_font_size(16)\n",
    "pdf.image('budget.png', x=0, y=0)\n",
    "\n",
    "pdf.text(23, 126, '1')\n",
    "pdf.text(23, 138, '2')\n",
    "pdf.text(23, 150, '3')\n",
    "pdf.text(23, 160, '4')\n",
    "\n",
    "\n",
    "#descrição\n",
    "pdf.text(16, 90, project)\n",
    "pdf.text(35, 126, 'Extra value per page')\n",
    "pdf.text(35, 138, 'Expected hours')\n",
    "pdf.text(35, 150, 'Value/hour')\n",
    "pdf.text(35, 160, 'Deadline')\n",
    "#quantidade\n",
    "pdf.text(112, 126, qnty_page)\n",
    "pdf.text(112, 160, deadline)\n",
    "#valor\n",
    "pdf.text(147, 126, price_page)\n",
    "pdf.text(147, 138, expected_hours)\n",
    "pdf.text(147, 150, price_hour)\n",
    "#TOTAL\n",
    "pdf.text(183, 126, str(total_pagina))\n",
    "pdf.text(183, 138, expected_hours)\n",
    "pdf.text(183, 150, price_hour)\n",
    "pdf.text(183, 183, str(total))\n",
    "\n",
    "\n",
    "\n",
    "pdf.output('budget.pdf')\n",
    "\n",
    "print('budget generated successfully!')"
   ]
  }
 ],
 "metadata": {
  "kernelspec": {
   "display_name": "Python 3",
   "language": "python",
   "name": "python3"
  },
  "language_info": {
   "codemirror_mode": {
    "name": "ipython",
    "version": 3
   },
   "file_extension": ".py",
   "mimetype": "text/x-python",
   "name": "python",
   "nbconvert_exporter": "python",
   "pygments_lexer": "ipython3",
   "version": "3.11.8"
  }
 },
 "nbformat": 4,
 "nbformat_minor": 2
}
